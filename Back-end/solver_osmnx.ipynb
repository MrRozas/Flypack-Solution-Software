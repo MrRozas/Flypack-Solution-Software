{
 "cells": [
  {
   "cell_type": "code",
   "execution_count": 1,
   "metadata": {},
   "outputs": [
    {
     "name": "stdout",
     "output_type": "stream",
     "text": [
      "Nodo más cercano al punto de inicio:  3649886098\n",
      "Coordenadas del nodo de inicio: (19.4266181, -99.1826343)\n"
     ]
    }
   ],
   "source": [
    "import osmnx as ox\n",
    "import networkx as nx\n",
    "from geopy.geocoders import Nominatim\n",
    "import itertools\n",
    "\n",
    "# Configura el lugar de búsqueda, por ejemplo, una ciudad o coordenadas GPS.\n",
    "place_name = \"Ciudad de México, México\"\n",
    "graph = ox.graph_from_place(place_name, network_type=\"all\")\n",
    "\n",
    "# Coordenadas geográficas del punto de inicio (por ejemplo, Museo Nacional de Antropología).\n",
    "start_coordinates = (19.4263, -99.1822)\n",
    "\n",
    "# Lista de direcciones intermedias.\n",
    "intermediate_addresses = [\n",
    "    \"Zócalo, Ciudad de México, México\",\n",
    "    \"Palacio de Bellas Artes, Ciudad de México, México\",\n",
    "    \"Ángel de la Independencia, Ciudad de México, México\",\n",
    "    \"Paseo de la Reforma, Ciudad de México, México\",\n",
    "]\n",
    "\n",
    "# Inicializa la lista de nodos de la ruta.\n",
    "nodes_in_route = []\n",
    "\n",
    "# Encuentra el nodo más cercano al punto de inicio en el grafo.\n",
    "start_node = ox.distance.nearest_nodes(graph, X=start_coordinates[1], Y=start_coordinates[0])\n",
    "nodes_in_route.append(start_node)\n",
    "\n",
    "print(\"Nodo más cercano al punto de inicio: \", start_node)\n",
    "# Obtiene las coordenadas geográficas del nodo de inicio.\n",
    "start_node_coordinates = graph.nodes[start_node]['y'], graph.nodes[start_node]['x']\n",
    "print(f\"Coordenadas del nodo de inicio: {start_node_coordinates}\")"
   ]
  },
  {
   "cell_type": "code",
   "execution_count": 3,
   "metadata": {},
   "outputs": [
    {
     "name": "stdout",
     "output_type": "stream",
     "text": [
      "Nodos más cercanos a las direcciones intermedias:  [3649886098, 4312134548, 8744216703, 4312134548, 8744216703, 2285222885, 4154582997]\n"
     ]
    }
   ],
   "source": [
    "# Inicializa el geocodificador de Nominatim.\n",
    "geolocator = Nominatim(user_agent=\"Flypack\")\n",
    "\n",
    "# Encuentra los nodos más cercanos a las direcciones intermedias.\n",
    "for address in intermediate_addresses:\n",
    "    location = geolocator.geocode(address)\n",
    "    node = ox.distance.nearest_nodes(graph, X=location.longitude, Y=location.latitude)\n",
    "    nodes_in_route.append(node)\n",
    "\n",
    "print(\"Nodos más cercanos a las direcciones intermedias: \", nodes_in_route)"
   ]
  },
  {
   "cell_type": "code",
   "execution_count": 4,
   "metadata": {},
   "outputs": [
    {
     "name": "stdout",
     "output_type": "stream",
     "text": [
      "Ruta más rápida:\n",
      "[3649886098, 2285222885, 4312134548, 4312134548, 8744216703, 8744216703, 4154582997, 3649886098]\n",
      "Longitud total de la ruta más rápida: 12247.109 metros\n"
     ]
    }
   ],
   "source": [
    "import itertools\n",
    "\n",
    "# Crea todas las posibles permutaciones de las ubicaciones intermedias (excepto el punto de inicio).\n",
    "permutations = list(itertools.permutations(nodes_in_route[1:]))\n",
    "\n",
    "# Inicializa variables para el mejor resultado y su longitud.\n",
    "best_route = None\n",
    "best_length = float(\"inf\")\n",
    "\n",
    "# Itera a través de las permutaciones y encuentra la más rápida.\n",
    "for perm in permutations:\n",
    "    current_route = [nodes_in_route[0]] + list(perm) + [nodes_in_route[0]]\n",
    "    current_length = sum(nx.shortest_path_length(graph, current_route[i], current_route[i + 1], weight=\"length\")\n",
    "                        for i in range(len(current_route) - 1))\n",
    "    if current_length < best_length:\n",
    "        best_route = current_route\n",
    "        best_length = current_length\n",
    "\n",
    "# Imprime la ruta y la longitud total.\n",
    "print(\"Ruta más rápida:\")\n",
    "print(best_route)\n",
    "print(f\"Longitud total de la ruta más rápida: {best_length} metros\")"
   ]
  },
  {
   "cell_type": "code",
   "execution_count": 6,
   "metadata": {},
   "outputs": [
    {
     "name": "stdout",
     "output_type": "stream",
     "text": [
      "Coordenadas de la Mejor Ruta:\n",
      "[(19.4266181, -99.1826343)]\n",
      "[(19.4266157, -99.1674212)]\n",
      "[(19.4333833, -99.1331904)]\n",
      "[(19.4333833, -99.1331904)]\n",
      "[(19.4361594, -99.1414584)]\n",
      "[(19.4361594, -99.1414584)]\n",
      "[(19.4372918, -99.146068)]\n",
      "[(19.4266181, -99.1826343)]\n"
     ]
    }
   ],
   "source": [
    "# Obtiene las coordenadas geográficas de cada nodo en la mejor ruta.\n",
    "coordinates_of_best_route = []\n",
    "for node in best_route:\n",
    " temp = [(graph.nodes[node]['y'], graph.nodes[node]['x'])]\n",
    " coordinates_of_best_route.append(temp)\n",
    "\n",
    "# Imprime las coordenadas geográficas de cada nodo en la mejor ruta.\n",
    "print(\"Coordenadas de la Mejor Ruta:\")\n",
    "for coordinates in coordinates_of_best_route:\n",
    "    print(coordinates)"
   ]
  }
 ],
 "metadata": {
  "kernelspec": {
   "display_name": "Python 3",
   "language": "python",
   "name": "python3"
  },
  "language_info": {
   "codemirror_mode": {
    "name": "ipython",
    "version": 3
   },
   "file_extension": ".py",
   "mimetype": "text/x-python",
   "name": "python",
   "nbconvert_exporter": "python",
   "pygments_lexer": "ipython3",
   "version": "3.11.3"
  },
  "orig_nbformat": 4
 },
 "nbformat": 4,
 "nbformat_minor": 2
}
