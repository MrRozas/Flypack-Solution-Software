{
 "cells": [
  {
   "cell_type": "code",
   "execution_count": 1,
   "metadata": {},
   "outputs": [
    {
     "name": "stdout",
     "output_type": "stream",
     "text": [
      "Nodo más cercano al punto de inicio:  5221589565\n",
      "Coordenadas del nodo de inicio: (-33.4715077, -70.6266977)\n"
     ]
    }
   ],
   "source": [
    "import osmnx as ox\n",
    "import networkx as nx\n",
    "from geopy.geocoders import Nominatim\n",
    "import itertools\n",
    "\n",
    "# Configura el lugar de búsqueda, por ejemplo, una ciudad o coordenadas GPS.\n",
    "place_name = \"Santiago, Chile\"\n",
    "graph = ox.graph_from_place(place_name, network_type=\"all\")\n",
    "\n",
    "# Coordenadas geográficas del punto de inicio (por ejemplo, Museo Nacional de Antropología).\n",
    "start_coordinates = (-33.4990878, -70.5520428)\n",
    "\n",
    "# Lista de direcciones intermedias.\n",
    "intermediate_addresses = [\n",
    "    \"Avenida Pedro de Valdivia 2257, Providencia\", \n",
    "    \"Paicaví 2721, La Florida, Provincia de Santiago, Chile\",\n",
    "    \"Av. José Pedro Alessandri 1166, Ñuñoa, Provincia de Santiago, Chile\",\n",
    "    \"Martín de Zamora 4495, Las Condes, Provincia de Santiago, Chile\"\n",
    "]\n",
    "\n",
    "# Inicializa la lista de nodos de la ruta.\n",
    "nodes_in_route = []\n",
    "\n",
    "# Encuentra el nodo más cercano al punto de inicio en el grafo.\n",
    "start_node = ox.distance.nearest_nodes(graph, X=start_coordinates[1], Y=start_coordinates[0])\n",
    "nodes_in_route.append(start_node)\n",
    "\n",
    "print(\"Nodo más cercano al punto de inicio: \", start_node)\n",
    "# Obtiene las coordenadas geográficas del nodo de inicio.\n",
    "start_node_coordinates = graph.nodes[start_node]['y'], graph.nodes[start_node]['x']\n",
    "print(f\"Coordenadas del nodo de inicio: {start_node_coordinates}\")"
   ]
  },
  {
   "cell_type": "code",
   "execution_count": 5,
   "metadata": {},
   "outputs": [
    {
     "name": "stdout",
     "output_type": "stream",
     "text": [
      "Nodos más cercanos a las direcciones intermedias:  [5221589565, 4456641543, 5221589565, 9294405966, 14805038, 4456641543, 5221589565, 9294405966, 14805038]\n",
      "Coordenadas de la Mejor Ruta:\n",
      "[(-33.4715077, -70.6266977)]\n",
      "[(-33.4484335, -70.6319355)]\n",
      "[(-33.4715077, -70.6266977)]\n",
      "[(-33.4693341, -70.6256036)]\n",
      "[(-33.4356977, -70.6353964)]\n",
      "[(-33.4484335, -70.6319355)]\n",
      "[(-33.4715077, -70.6266977)]\n",
      "[(-33.4693341, -70.6256036)]\n",
      "[(-33.4356977, -70.6353964)]\n"
     ]
    }
   ],
   "source": [
    "# Inicializa el geocodificador de Nominatim.\n",
    "geolocator = Nominatim(user_agent=\"Flypack\")\n",
    "\n",
    "# Encuentra los nodos más cercanos a las direcciones intermedias.\n",
    "for address in intermediate_addresses:\n",
    "    location = geolocator.geocode(address)\n",
    "    node = ox.distance.nearest_nodes(graph, X=location.longitude, Y=location.latitude)\n",
    "    nodes_in_route.append(node)\n",
    "\n",
    "print(\"Nodos más cercanos a las direcciones intermedias: \", nodes_in_route)\n",
    "\n",
    "coordinates_of_best_route = []\n",
    "\n",
    "for node in nodes_in_route:\n",
    " temp = [(graph.nodes[node]['y'], graph.nodes[node]['x'])]\n",
    " coordinates_of_best_route.append(temp)\n",
    "\n",
    "# Imprime las coordenadas geográficas de cada nodo en la mejor ruta.\n",
    "print(\"Coordenadas de la Mejor Ruta:\")\n",
    "for coordinates in coordinates_of_best_route:\n",
    "    print(coordinates)"
   ]
  },
  {
   "cell_type": "code",
   "execution_count": 3,
   "metadata": {},
   "outputs": [
    {
     "ename": "NetworkXNoPath",
     "evalue": "Node 14805038 not reachable from 9294405966",
     "output_type": "error",
     "traceback": [
      "\u001b[1;31m---------------------------------------------------------------------------\u001b[0m",
      "\u001b[1;31mKeyError\u001b[0m                                  Traceback (most recent call last)",
      "File \u001b[1;32mc:\\Python311\\Lib\\site-packages\\networkx\\algorithms\\shortest_paths\\weighted.py:245\u001b[0m, in \u001b[0;36mdijkstra_path_length\u001b[1;34m(G, source, target, weight)\u001b[0m\n\u001b[0;32m    244\u001b[0m \u001b[39mtry\u001b[39;00m:\n\u001b[1;32m--> 245\u001b[0m     \u001b[39mreturn\u001b[39;00m length[target]\n\u001b[0;32m    246\u001b[0m \u001b[39mexcept\u001b[39;00m \u001b[39mKeyError\u001b[39;00m \u001b[39mas\u001b[39;00m err:\n",
      "\u001b[1;31mKeyError\u001b[0m: 14805038",
      "\nThe above exception was the direct cause of the following exception:\n",
      "\u001b[1;31mNetworkXNoPath\u001b[0m                            Traceback (most recent call last)",
      "\u001b[1;32mc:\\Users\\drago\\Desktop\\Ing_Software\\solver_osmnx.ipynb Cell 3\u001b[0m line \u001b[0;36m1\n\u001b[0;32m     <a href='vscode-notebook-cell:/c%3A/Users/drago/Desktop/Ing_Software/solver_osmnx.ipynb#W2sZmlsZQ%3D%3D?line=10'>11</a>\u001b[0m \u001b[39mfor\u001b[39;00m perm \u001b[39min\u001b[39;00m permutations:\n\u001b[0;32m     <a href='vscode-notebook-cell:/c%3A/Users/drago/Desktop/Ing_Software/solver_osmnx.ipynb#W2sZmlsZQ%3D%3D?line=11'>12</a>\u001b[0m     current_route \u001b[39m=\u001b[39m [nodes_in_route[\u001b[39m0\u001b[39m]] \u001b[39m+\u001b[39m \u001b[39mlist\u001b[39m(perm) \u001b[39m+\u001b[39m [nodes_in_route[\u001b[39m0\u001b[39m]]\n\u001b[1;32m---> <a href='vscode-notebook-cell:/c%3A/Users/drago/Desktop/Ing_Software/solver_osmnx.ipynb#W2sZmlsZQ%3D%3D?line=12'>13</a>\u001b[0m     current_length \u001b[39m=\u001b[39m \u001b[39msum\u001b[39;49m(nx\u001b[39m.\u001b[39;49mshortest_path_length(graph, current_route[i], current_route[i \u001b[39m+\u001b[39;49m \u001b[39m1\u001b[39;49m], weight\u001b[39m=\u001b[39;49m\u001b[39m\"\u001b[39;49m\u001b[39mlength\u001b[39;49m\u001b[39m\"\u001b[39;49m)\n\u001b[0;32m     <a href='vscode-notebook-cell:/c%3A/Users/drago/Desktop/Ing_Software/solver_osmnx.ipynb#W2sZmlsZQ%3D%3D?line=13'>14</a>\u001b[0m                         \u001b[39mfor\u001b[39;49;00m i \u001b[39min\u001b[39;49;00m \u001b[39mrange\u001b[39;49m(\u001b[39mlen\u001b[39;49m(current_route) \u001b[39m-\u001b[39;49m \u001b[39m1\u001b[39;49m))\n\u001b[0;32m     <a href='vscode-notebook-cell:/c%3A/Users/drago/Desktop/Ing_Software/solver_osmnx.ipynb#W2sZmlsZQ%3D%3D?line=14'>15</a>\u001b[0m     \u001b[39mif\u001b[39;00m current_length \u001b[39m<\u001b[39m best_length:\n\u001b[0;32m     <a href='vscode-notebook-cell:/c%3A/Users/drago/Desktop/Ing_Software/solver_osmnx.ipynb#W2sZmlsZQ%3D%3D?line=15'>16</a>\u001b[0m         best_route \u001b[39m=\u001b[39m current_route\n",
      "\u001b[1;32mc:\\Users\\drago\\Desktop\\Ing_Software\\solver_osmnx.ipynb Cell 3\u001b[0m line \u001b[0;36m1\n\u001b[0;32m     <a href='vscode-notebook-cell:/c%3A/Users/drago/Desktop/Ing_Software/solver_osmnx.ipynb#W2sZmlsZQ%3D%3D?line=10'>11</a>\u001b[0m \u001b[39mfor\u001b[39;00m perm \u001b[39min\u001b[39;00m permutations:\n\u001b[0;32m     <a href='vscode-notebook-cell:/c%3A/Users/drago/Desktop/Ing_Software/solver_osmnx.ipynb#W2sZmlsZQ%3D%3D?line=11'>12</a>\u001b[0m     current_route \u001b[39m=\u001b[39m [nodes_in_route[\u001b[39m0\u001b[39m]] \u001b[39m+\u001b[39m \u001b[39mlist\u001b[39m(perm) \u001b[39m+\u001b[39m [nodes_in_route[\u001b[39m0\u001b[39m]]\n\u001b[1;32m---> <a href='vscode-notebook-cell:/c%3A/Users/drago/Desktop/Ing_Software/solver_osmnx.ipynb#W2sZmlsZQ%3D%3D?line=12'>13</a>\u001b[0m     current_length \u001b[39m=\u001b[39m \u001b[39msum\u001b[39m(nx\u001b[39m.\u001b[39;49mshortest_path_length(graph, current_route[i], current_route[i \u001b[39m+\u001b[39;49m \u001b[39m1\u001b[39;49m], weight\u001b[39m=\u001b[39;49m\u001b[39m\"\u001b[39;49m\u001b[39mlength\u001b[39;49m\u001b[39m\"\u001b[39;49m)\n\u001b[0;32m     <a href='vscode-notebook-cell:/c%3A/Users/drago/Desktop/Ing_Software/solver_osmnx.ipynb#W2sZmlsZQ%3D%3D?line=13'>14</a>\u001b[0m                         \u001b[39mfor\u001b[39;00m i \u001b[39min\u001b[39;00m \u001b[39mrange\u001b[39m(\u001b[39mlen\u001b[39m(current_route) \u001b[39m-\u001b[39m \u001b[39m1\u001b[39m))\n\u001b[0;32m     <a href='vscode-notebook-cell:/c%3A/Users/drago/Desktop/Ing_Software/solver_osmnx.ipynb#W2sZmlsZQ%3D%3D?line=14'>15</a>\u001b[0m     \u001b[39mif\u001b[39;00m current_length \u001b[39m<\u001b[39m best_length:\n\u001b[0;32m     <a href='vscode-notebook-cell:/c%3A/Users/drago/Desktop/Ing_Software/solver_osmnx.ipynb#W2sZmlsZQ%3D%3D?line=15'>16</a>\u001b[0m         best_route \u001b[39m=\u001b[39m current_route\n",
      "File \u001b[1;32mc:\\Python311\\Lib\\site-packages\\networkx\\classes\\backends.py:148\u001b[0m, in \u001b[0;36m_dispatch.<locals>.wrapper\u001b[1;34m(*args, **kwds)\u001b[0m\n\u001b[0;32m    144\u001b[0m         \u001b[39melse\u001b[39;00m:\n\u001b[0;32m    145\u001b[0m             \u001b[39mraise\u001b[39;00m NetworkXNotImplemented(\n\u001b[0;32m    146\u001b[0m                 \u001b[39mf\u001b[39m\u001b[39m\"\u001b[39m\u001b[39m'\u001b[39m\u001b[39m{\u001b[39;00mname\u001b[39m}\u001b[39;00m\u001b[39m'\u001b[39m\u001b[39m not implemented by \u001b[39m\u001b[39m{\u001b[39;00mplugin_name\u001b[39m}\u001b[39;00m\u001b[39m\"\u001b[39m\n\u001b[0;32m    147\u001b[0m             )\n\u001b[1;32m--> 148\u001b[0m \u001b[39mreturn\u001b[39;00m func(\u001b[39m*\u001b[39;49margs, \u001b[39m*\u001b[39;49m\u001b[39m*\u001b[39;49mkwds)\n",
      "File \u001b[1;32mc:\\Python311\\Lib\\site-packages\\networkx\\algorithms\\shortest_paths\\generic.py:317\u001b[0m, in \u001b[0;36mshortest_path_length\u001b[1;34m(G, source, target, weight, method)\u001b[0m\n\u001b[0;32m    315\u001b[0m     paths \u001b[39m=\u001b[39m \u001b[39mlen\u001b[39m(p) \u001b[39m-\u001b[39m \u001b[39m1\u001b[39m\n\u001b[0;32m    316\u001b[0m \u001b[39melif\u001b[39;00m method \u001b[39m==\u001b[39m \u001b[39m\"\u001b[39m\u001b[39mdijkstra\u001b[39m\u001b[39m\"\u001b[39m:\n\u001b[1;32m--> 317\u001b[0m     paths \u001b[39m=\u001b[39m nx\u001b[39m.\u001b[39;49mdijkstra_path_length(G, source, target, weight)\n\u001b[0;32m    318\u001b[0m \u001b[39melse\u001b[39;00m:  \u001b[39m# method == 'bellman-ford':\u001b[39;00m\n\u001b[0;32m    319\u001b[0m     paths \u001b[39m=\u001b[39m nx\u001b[39m.\u001b[39mbellman_ford_path_length(G, source, target, weight)\n",
      "File \u001b[1;32mc:\\Python311\\Lib\\site-packages\\networkx\\algorithms\\shortest_paths\\weighted.py:247\u001b[0m, in \u001b[0;36mdijkstra_path_length\u001b[1;34m(G, source, target, weight)\u001b[0m\n\u001b[0;32m    245\u001b[0m     \u001b[39mreturn\u001b[39;00m length[target]\n\u001b[0;32m    246\u001b[0m \u001b[39mexcept\u001b[39;00m \u001b[39mKeyError\u001b[39;00m \u001b[39mas\u001b[39;00m err:\n\u001b[1;32m--> 247\u001b[0m     \u001b[39mraise\u001b[39;00m nx\u001b[39m.\u001b[39mNetworkXNoPath(\u001b[39mf\u001b[39m\u001b[39m\"\u001b[39m\u001b[39mNode \u001b[39m\u001b[39m{\u001b[39;00mtarget\u001b[39m}\u001b[39;00m\u001b[39m not reachable from \u001b[39m\u001b[39m{\u001b[39;00msource\u001b[39m}\u001b[39;00m\u001b[39m\"\u001b[39m) \u001b[39mfrom\u001b[39;00m \u001b[39merr\u001b[39;00m\n",
      "\u001b[1;31mNetworkXNoPath\u001b[0m: Node 14805038 not reachable from 9294405966"
     ]
    }
   ],
   "source": [
    "import itertools\n",
    "\n",
    "# Crea todas las posibles permutaciones de las ubicaciones intermedias (excepto el punto de inicio).\n",
    "permutations = list(itertools.permutations(nodes_in_route[1:]))\n",
    "\n",
    "# Inicializa variables para el mejor resultado y su longitud.\n",
    "best_route = None\n",
    "best_length = float(\"inf\")\n",
    "\n",
    "# Itera a través de las permutaciones y encuentra la más rápida.\n",
    "for perm in permutations:\n",
    "    current_route = [nodes_in_route[0]] + list(perm) + [nodes_in_route[0]]\n",
    "    current_length = sum(nx.shortest_path_length(graph, current_route[i], current_route[i + 1], weight=\"length\")\n",
    "                        for i in range(len(current_route) - 1))\n",
    "    if current_length < best_length:\n",
    "        best_route = current_route\n",
    "        best_length = current_length\n",
    "\n",
    "# Imprime la ruta y la longitud total.\n",
    "print(\"Ruta más rápida:\")\n",
    "print(best_route)\n",
    "print(f\"Longitud total de la ruta más rápida: {best_length} metros\")"
   ]
  },
  {
   "cell_type": "code",
   "execution_count": 4,
   "metadata": {},
   "outputs": [
    {
     "ename": "TypeError",
     "evalue": "'NoneType' object is not iterable",
     "output_type": "error",
     "traceback": [
      "\u001b[1;31m---------------------------------------------------------------------------\u001b[0m",
      "\u001b[1;31mTypeError\u001b[0m                                 Traceback (most recent call last)",
      "\u001b[1;32mc:\\Users\\drago\\Desktop\\Ing_Software\\solver_osmnx.ipynb Cell 4\u001b[0m line \u001b[0;36m3\n\u001b[0;32m      <a href='vscode-notebook-cell:/c%3A/Users/drago/Desktop/Ing_Software/solver_osmnx.ipynb#W3sZmlsZQ%3D%3D?line=0'>1</a>\u001b[0m \u001b[39m# Obtiene las coordenadas geográficas de cada nodo en la mejor ruta.\u001b[39;00m\n\u001b[0;32m      <a href='vscode-notebook-cell:/c%3A/Users/drago/Desktop/Ing_Software/solver_osmnx.ipynb#W3sZmlsZQ%3D%3D?line=1'>2</a>\u001b[0m coordinates_of_best_route \u001b[39m=\u001b[39m []\n\u001b[1;32m----> <a href='vscode-notebook-cell:/c%3A/Users/drago/Desktop/Ing_Software/solver_osmnx.ipynb#W3sZmlsZQ%3D%3D?line=2'>3</a>\u001b[0m \u001b[39mfor\u001b[39;00m node \u001b[39min\u001b[39;00m best_route:\n\u001b[0;32m      <a href='vscode-notebook-cell:/c%3A/Users/drago/Desktop/Ing_Software/solver_osmnx.ipynb#W3sZmlsZQ%3D%3D?line=3'>4</a>\u001b[0m  temp \u001b[39m=\u001b[39m [(graph\u001b[39m.\u001b[39mnodes[node][\u001b[39m'\u001b[39m\u001b[39my\u001b[39m\u001b[39m'\u001b[39m], graph\u001b[39m.\u001b[39mnodes[node][\u001b[39m'\u001b[39m\u001b[39mx\u001b[39m\u001b[39m'\u001b[39m])]\n\u001b[0;32m      <a href='vscode-notebook-cell:/c%3A/Users/drago/Desktop/Ing_Software/solver_osmnx.ipynb#W3sZmlsZQ%3D%3D?line=4'>5</a>\u001b[0m  coordinates_of_best_route\u001b[39m.\u001b[39mappend(temp)\n",
      "\u001b[1;31mTypeError\u001b[0m: 'NoneType' object is not iterable"
     ]
    }
   ],
   "source": [
    "# Obtiene las coordenadas geográficas de cada nodo en la mejor ruta.\n",
    "coordinates_of_best_route = []\n",
    "for node in best_route:\n",
    " temp = [(graph.nodes[node]['y'], graph.nodes[node]['x'])]\n",
    " coordinates_of_best_route.append(temp)\n",
    "\n",
    "# Imprime las coordenadas geográficas de cada nodo en la mejor ruta.\n",
    "print(\"Coordenadas de la Mejor Ruta:\")\n",
    "for coordinates in coordinates_of_best_route:\n",
    "    print(coordinates)"
   ]
  }
 ],
 "metadata": {
  "kernelspec": {
   "display_name": "Python 3",
   "language": "python",
   "name": "python3"
  },
  "language_info": {
   "codemirror_mode": {
    "name": "ipython",
    "version": 3
   },
   "file_extension": ".py",
   "mimetype": "text/x-python",
   "name": "python",
   "nbconvert_exporter": "python",
   "pygments_lexer": "ipython3",
   "version": "3.11.3"
  },
  "orig_nbformat": 4
 },
 "nbformat": 4,
 "nbformat_minor": 2
}
